{
 "cells": [
  {
   "cell_type": "code",
   "execution_count": null,
   "metadata": {},
   "outputs": [],
   "source": [
    "import pandas as pd\n",
    "import seaborn as sns\n",
    "from datetime import datetime \n",
    "import numpy as np\n",
    "import matplotlib.pyplot as plt\n",
    "%matplotlib inline\n",
    "sns.set(rc={'figure.figsize':(16.7,6.27)})"
   ]
  },
  {
   "cell_type": "code",
   "execution_count": null,
   "metadata": {},
   "outputs": [],
   "source": [
    "train = pd.read_csv(\"../data/train/train.csv\")\n",
    "print(train.shape)\n",
    "train.head()"
   ]
  },
  {
   "cell_type": "code",
   "execution_count": null,
   "metadata": {},
   "outputs": [],
   "source": [
    "logs = pd.read_csv(\"../data/train/view_log.csv\")\n",
    "print(logs.shape)\n",
    "logs.head()"
   ]
  },
  {
   "cell_type": "code",
   "execution_count": null,
   "metadata": {},
   "outputs": [],
   "source": [
    "items = pd.read_csv(\"../data/train/item_data.csv\")\n",
    "print(items.shape)\n",
    "items.head()"
   ]
  },
  {
   "cell_type": "code",
   "execution_count": null,
   "metadata": {},
   "outputs": [],
   "source": [
    "test = pd.read_csv(\"../data/test/test.csv\")\n",
    "test.head()"
   ]
  },
  {
   "cell_type": "code",
   "execution_count": null,
   "metadata": {},
   "outputs": [],
   "source": [
    "def unique(df):\n",
    "    print(\"Number of rows in df: \",df.shape[0])\n",
    "    for col in df.columns:\n",
    "        print(\"Number of unique values in \"+col+\": \",len(df[col].unique()))\n",
    "def missing(df):\n",
    "    for col in df.columns:\n",
    "        print(\"Number of missing values in \"+col+\": \",df[col].isnull().sum())\n",
    "def values(df,cols):\n",
    "    for col in cols:\n",
    "        print(\"Value Counts for the column :\",col)\n",
    "        print(df[col].value_counts())"
   ]
  },
  {
   "cell_type": "markdown",
   "metadata": {},
   "source": [
    "## 1. EDA\n",
    "### 1.1 Exploring train.csv\n",
    "#### 1.1.1 Unique values and variable types"
   ]
  },
  {
   "cell_type": "code",
   "execution_count": null,
   "metadata": {},
   "outputs": [],
   "source": [
    "unique(train)"
   ]
  },
  {
   "cell_type": "markdown",
   "metadata": {},
   "source": [
    "#### 1.1.2 Missing values check"
   ]
  },
  {
   "cell_type": "code",
   "execution_count": null,
   "metadata": {},
   "outputs": [],
   "source": [
    "missing(train)"
   ]
  },
  {
   "cell_type": "markdown",
   "metadata": {},
   "source": [
    "1. Impression ID: Unique indentifier for each row\n",
    "3. impression time: date_time variable\n",
    "2. user_id: Identifier for each user\n",
    "3. app_code: identifier for different websites/ applications. Should not be treated as a numerical value as it has no inherant numerical ranking (nominal variable)\n",
    "4. os_version: Has inherant numerical ranking (ordinal variable)\n",
    "5. is_4G : Binary variable\n",
    "6. is_click: Target Variable (binary) to denote whether or not the user clicked on the ad/"
   ]
  },
  {
   "cell_type": "markdown",
   "metadata": {},
   "source": [
    "#### 1.1.3 Distribution of features and corresponding encoding scheme to be used"
   ]
  },
  {
   "cell_type": "code",
   "execution_count": null,
   "metadata": {},
   "outputs": [],
   "source": [
    "sns.distplot(train.app_code)"
   ]
  },
  {
   "cell_type": "code",
   "execution_count": null,
   "metadata": {},
   "outputs": [],
   "source": [
    "# sns.distplot(train.os_version)\n",
    "print(train.os_version.value_counts())"
   ]
  },
  {
   "cell_type": "code",
   "execution_count": null,
   "metadata": {},
   "outputs": [],
   "source": [
    "sns.distplot(train.is_4G)"
   ]
  },
  {
   "cell_type": "code",
   "execution_count": null,
   "metadata": {},
   "outputs": [],
   "source": [
    "sns.distplot(train.is_click)\n",
    "print(train.is_click.value_counts())"
   ]
  },
  {
   "cell_type": "code",
   "execution_count": null,
   "metadata": {},
   "outputs": [],
   "source": [
    "print(\"Ratio between cases where customer actually clicks on the ad against the cases where the ad is ignored\",train.is_click.value_counts()[1]/train.is_click.value_counts()[0])"
   ]
  },
  {
   "cell_type": "markdown",
   "metadata": {},
   "source": [
    "1. Target Variable is Imbalanced\n",
    "2. Need to find a proper encoding scheme for app code\n",
    "3. is_4G does not require any encoding\n",
    "4. os_version can be numerically encoded while preserving the ranks\n",
    "5. User_ids can be clustered and a cluster_id can be used as a feature."
   ]
  },
  {
   "cell_type": "markdown",
   "metadata": {},
   "source": [
    "### 1.2  Exploring view_logs.csv\n",
    "#### 1.2.1 Unique values and variable types"
   ]
  },
  {
   "cell_type": "code",
   "execution_count": null,
   "metadata": {},
   "outputs": [],
   "source": [
    "unique(logs)"
   ]
  },
  {
   "cell_type": "markdown",
   "metadata": {},
   "source": [
    "#### Missing values check"
   ]
  },
  {
   "cell_type": "code",
   "execution_count": null,
   "metadata": {},
   "outputs": [],
   "source": [
    "missing(logs)"
   ]
  },
  {
   "cell_type": "code",
   "execution_count": null,
   "metadata": {},
   "outputs": [],
   "source": [
    "values(logs,[\"device_type\"])"
   ]
  },
  {
   "cell_type": "code",
   "execution_count": null,
   "metadata": {},
   "outputs": [],
   "source": [
    "logs.head()"
   ]
  },
  {
   "cell_type": "markdown",
   "metadata": {},
   "source": [
    "1. device_type -> get_dummies()"
   ]
  },
  {
   "cell_type": "markdown",
   "metadata": {},
   "source": [
    "### 1.3 Exploring item_data.csv"
   ]
  },
  {
   "cell_type": "code",
   "execution_count": null,
   "metadata": {},
   "outputs": [],
   "source": [
    "items.head()"
   ]
  },
  {
   "cell_type": "code",
   "execution_count": null,
   "metadata": {},
   "outputs": [],
   "source": [
    "unique(items)"
   ]
  },
  {
   "cell_type": "code",
   "execution_count": null,
   "metadata": {},
   "outputs": [],
   "source": [
    "missing(items)"
   ]
  },
  {
   "cell_type": "code",
   "execution_count": null,
   "metadata": {},
   "outputs": [],
   "source": [
    "sns.boxplot(items.category_1)"
   ]
  },
  {
   "cell_type": "code",
   "execution_count": null,
   "metadata": {},
   "outputs": [],
   "source": [
    "sns.boxplot(items.category_2)"
   ]
  },
  {
   "cell_type": "code",
   "execution_count": null,
   "metadata": {},
   "outputs": [],
   "source": [
    "sns.boxplot(items.category_3)"
   ]
  },
  {
   "cell_type": "code",
   "execution_count": null,
   "metadata": {},
   "outputs": [],
   "source": [
    "sns.boxplot(items.item_price)"
   ]
  },
  {
   "cell_type": "code",
   "execution_count": null,
   "metadata": {},
   "outputs": [],
   "source": [
    "print(\"minimum price\",items.item_price.min())\n",
    "print(\"maximum price\",items.item_price.max())"
   ]
  },
  {
   "cell_type": "markdown",
   "metadata": {},
   "source": [
    "1. The depth for all the three categories varies. These three features may need to be standardized. It will be trated as a numerical variable only\n",
    "2. The prices for items start from as low as 5 and goes up till 1340800. most of the items belong to the lower priced brackets. "
   ]
  },
  {
   "cell_type": "code",
   "execution_count": null,
   "metadata": {},
   "outputs": [],
   "source": [
    "sns.distplot(items.product_type)"
   ]
  },
  {
   "cell_type": "markdown",
   "metadata": {},
   "source": [
    "## 2. Performing joins"
   ]
  },
  {
   "cell_type": "code",
   "execution_count": null,
   "metadata": {},
   "outputs": [],
   "source": [
    "logs.head()"
   ]
  },
  {
   "cell_type": "code",
   "execution_count": null,
   "metadata": {},
   "outputs": [],
   "source": [
    "items.head()"
   ]
  },
  {
   "cell_type": "code",
   "execution_count": null,
   "metadata": {},
   "outputs": [],
   "source": [
    "logs_items = logs.join(items,on=\"item_id\",how=\"left\",lsuffix=\"\",rsuffix=\"_l\").drop([\"item_id_l\"],axis=1)\n",
    "logs_items.head()"
   ]
  },
  {
   "cell_type": "code",
   "execution_count": null,
   "metadata": {},
   "outputs": [],
   "source": [
    "print(logs_items.shape)\n",
    "missing(logs_items)"
   ]
  },
  {
   "cell_type": "code",
   "execution_count": null,
   "metadata": {},
   "outputs": [],
   "source": [
    "len(items.item_id.unique())-len(logs.item_id.unique())"
   ]
  },
  {
   "cell_type": "code",
   "execution_count": null,
   "metadata": {},
   "outputs": [],
   "source": [
    "train.head()"
   ]
  },
  {
   "cell_type": "markdown",
   "metadata": {},
   "source": [
    "This means there are 4092 item_ids in view_logs.csv that have no corresponding id in item_data.csv"
   ]
  },
  {
   "cell_type": "code",
   "execution_count": null,
   "metadata": {},
   "outputs": [],
   "source": []
  },
  {
   "cell_type": "markdown",
   "metadata": {},
   "source": [
    "## 3. Feature Engineering"
   ]
  },
  {
   "cell_type": "markdown",
   "metadata": {},
   "source": [
    "### 3.1 Ideas for new features\n",
    "1. User_id decile based on item prices (Will categorize users based on amount of money spent by the user)\n",
    "2. User_id decile based on no_of_clicks (Will categorize users based on number of times he/she clicks on the ad )\n",
    "3. Time spent on each item (items_log)\n",
    "\n",
    "### 3.2 Encoding Schemes \n",
    "How to encode user_id, app_code"
   ]
  },
  {
   "cell_type": "code",
   "execution_count": null,
   "metadata": {},
   "outputs": [],
   "source": [
    "def encoder_os(x):\n",
    "    if x == \"old\":\n",
    "        return 0\n",
    "    elif x == \"intermediate\":\n",
    "        return 1\n",
    "    return 2\n",
    "train.os_version = train.os_version.apply(lambda x: encoder_os(x))\n",
    "test.os_version = test.os_version.apply(lambda x: encoder_os(x))"
   ]
  },
  {
   "cell_type": "code",
   "execution_count": null,
   "metadata": {},
   "outputs": [],
   "source": [
    "# train = pd.concat([train,pd.get_dummies(train.is_4G)],axis=1)\n",
    "# test = pd.concat([test,pd.get_dummies(test.is_4G)],axis=1)"
   ]
  },
  {
   "cell_type": "markdown",
   "metadata": {},
   "source": [
    "### 3.3 Datetime Encoding"
   ]
  },
  {
   "cell_type": "code",
   "execution_count": null,
   "metadata": {},
   "outputs": [],
   "source": []
  },
  {
   "cell_type": "code",
   "execution_count": null,
   "metadata": {},
   "outputs": [],
   "source": [
    "def get_time_feats(df,col):\n",
    "    df[col] = pd.to_datetime(df[col],format='%Y-%m-%d %H:%M:%S') \n",
    "    df[col+\"_year\"] = df[col].apply(lambda x:x.year)\n",
    "    df[col+\"_month\"] = df[col].apply(lambda x:x.month)\n",
    "    df[col+\"_day\"] = df[col].apply(lambda x:x.day)\n",
    "    df[col+\"_hour\"] = df[col].apply(lambda x:x.hour)\n",
    "    df[col+\"_dayofweek\"] = df[col].apply(lambda x:x.dayofweek)\n",
    "    return df"
   ]
  },
  {
   "cell_type": "code",
   "execution_count": null,
   "metadata": {},
   "outputs": [],
   "source": [
    "train = get_time_feats(train,\"impression_time\")\n",
    "train.head()"
   ]
  },
  {
   "cell_type": "code",
   "execution_count": null,
   "metadata": {},
   "outputs": [],
   "source": [
    "test = get_time_feats(test,\"impression_time\")\n",
    "test.head()"
   ]
  },
  {
   "cell_type": "code",
   "execution_count": null,
   "metadata": {},
   "outputs": [],
   "source": [
    "logs_items = get_time_feats(logs_items,\"server_time\")\n",
    "logs_items.head()"
   ]
  },
  {
   "cell_type": "markdown",
   "metadata": {},
   "source": [
    "## 4. A few checks"
   ]
  },
  {
   "cell_type": "code",
   "execution_count": null,
   "metadata": {},
   "outputs": [],
   "source": [
    "total = 0\n",
    "for id_ in test.user_id:\n",
    "    if id_ not in train.user_id:\n",
    "        print(id_)\n",
    "        total += 1"
   ]
  },
  {
   "cell_type": "code",
   "execution_count": null,
   "metadata": {},
   "outputs": [],
   "source": [
    "def volume_quantile(splits, var, df, ID):    \n",
    "    df = df.sort_values([var])\n",
    "    df['CUM_VAR'] = df[var].cumsum()/df[var].sum()\n",
    "    \n",
    "    #restamp values >1\n",
    "    mask = df['CUM_VAR'] > 1\n",
    "    column_name = 'CUM_VAR'\n",
    "    df.loc[mask, column_name] = 1\n",
    "    \n",
    "    #create buckets\n",
    "    df['decile'] = (df['CUM_VAR']*splits)\n",
    "    df['decile'] = df['decile'].apply(np.ceil)\n",
    "    \n",
    "    #stat summary\n",
    "#     results.groupby(['decile'])['mrkt_trx_vol'].sum()\n",
    "    print(df.groupby('decile').agg({ID:'count', var: ['sum','max','min']}).reset_index())\n",
    "    \n",
    "    return df"
   ]
  },
  {
   "cell_type": "code",
   "execution_count": null,
   "metadata": {},
   "outputs": [],
   "source": [
    "temp = train.groupby(\"user_id\").sum().sort_values(\"is_click\")\n",
    "temp = volume_quantile(10,\"is_click\",temp,\"decile\")\n",
    "temp=temp.loc[:,['is_click']]\n",
    "temp = temp.reset_index()\n",
    "train = train.join(temp,on=\"user_id\",how=\"left\",lsuffix=\"\",rsuffix=\"_\").drop([\"user_id_\",\"is_click_\"],axis=1)\n",
    "train.head()"
   ]
  },
  {
   "cell_type": "code",
   "execution_count": null,
   "metadata": {},
   "outputs": [],
   "source": [
    "test = test.join(temp,on=\"user_id\",how=\"left\",lsuffix=\"\",rsuffix=\"_\").drop([\"user_id_\",\"is_click_\"],axis=1)\n",
    "test.head()"
   ]
  },
  {
   "cell_type": "code",
   "execution_count": null,
   "metadata": {},
   "outputs": [],
   "source": [
    "missing(temp)"
   ]
  },
  {
   "cell_type": "code",
   "execution_count": null,
   "metadata": {},
   "outputs": [],
   "source": []
  },
  {
   "cell_type": "markdown",
   "metadata": {},
   "source": [
    "This means there are no users in test_df that are not given in train_df"
   ]
  },
  {
   "cell_type": "markdown",
   "metadata": {},
   "source": [
    "## 5. Modelling"
   ]
  },
  {
   "cell_type": "code",
   "execution_count": null,
   "metadata": {},
   "outputs": [],
   "source": [
    "import xgboost as xgb"
   ]
  },
  {
   "cell_type": "code",
   "execution_count": null,
   "metadata": {},
   "outputs": [],
   "source": [
    "X = train.drop([\"impression_time\",\"is_click\",\"impression_id\",\"impression_time_year\"],axis=1)\n",
    "X.head()"
   ]
  },
  {
   "cell_type": "code",
   "execution_count": null,
   "metadata": {},
   "outputs": [],
   "source": [
    "y= train.is_click\n",
    "# test_id = test.impression_id\n",
    "test_df = test.drop([\"impression_time\",\"impression_id\",\"impression_time_year\"],axis=1)\n",
    "test_df.head()"
   ]
  },
  {
   "cell_type": "code",
   "execution_count": null,
   "metadata": {},
   "outputs": [],
   "source": [
    "dtrain = xgb.DMatrix(np.array(X), label=y)\n",
    "dtest = xgb.DMatrix(np.array(test_df))\n",
    "params = {'colsample_bytree': 0.7, 'learning_rate': 0.03, 'max_depth': 5, 'min_child_weight': 4, 'n_estimators': 500, 'nthread': -1, 'objective': 'binary:logistic', 'silent': 1, 'subsample': 0.7 ,'eval_metric':'auc'}\n",
    "num_round=1000\n",
    "gbdt = xgb.train(params, dtrain,num_round)\n",
    "pred = gbdt.predict(dtest)"
   ]
  },
  {
   "cell_type": "code",
   "execution_count": null,
   "metadata": {},
   "outputs": [],
   "source": [
    "ans = pd.DataFrame()\n",
    "ans[\"impression_id\"] = test.impression_id\n",
    "ans[\"is_click\"] = pred\n",
    "ans.head()"
   ]
  },
  {
   "cell_type": "code",
   "execution_count": null,
   "metadata": {},
   "outputs": [],
   "source": [
    "ans.to_csv(\"../output/xgboost_with_datetime_but_nothing_else_yearDropped.csv\",index=None)"
   ]
  },
  {
   "cell_type": "code",
   "execution_count": null,
   "metadata": {},
   "outputs": [],
   "source": [
    "logs.loc[logs.session_id==112333]"
   ]
  },
  {
   "cell_type": "code",
   "execution_count": null,
   "metadata": {},
   "outputs": [],
   "source": [
    "logs_items.loc[logs.session_id==1065742]"
   ]
  },
  {
   "cell_type": "code",
   "execution_count": null,
   "metadata": {},
   "outputs": [],
   "source": [
    "train.loc[train.user_id==4557]"
   ]
  },
  {
   "cell_type": "code",
   "execution_count": null,
   "metadata": {},
   "outputs": [],
   "source": [
    "logs.loc[logs.user_id==2]"
   ]
  },
  {
   "cell_type": "code",
   "execution_count": null,
   "metadata": {},
   "outputs": [],
   "source": [
    "train.loc[train.user_id==2]"
   ]
  },
  {
   "cell_type": "code",
   "execution_count": null,
   "metadata": {},
   "outputs": [],
   "source": []
  }
 ],
 "metadata": {
  "kernelspec": {
   "display_name": "Python 3",
   "language": "python",
   "name": "python3"
  },
  "language_info": {
   "codemirror_mode": {
    "name": "ipython",
    "version": 3
   },
   "file_extension": ".py",
   "mimetype": "text/x-python",
   "name": "python",
   "nbconvert_exporter": "python",
   "pygments_lexer": "ipython3",
   "version": "3.7.3"
  }
 },
 "nbformat": 4,
 "nbformat_minor": 2
}
